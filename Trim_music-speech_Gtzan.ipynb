{
 "cells": [
  {
   "cell_type": "code",
   "execution_count": 1,
   "metadata": {},
   "outputs": [],
   "source": [
    "import numpy as np\n",
    "import glob\n",
    "import librosa"
   ]
  },
  {
   "cell_type": "code",
   "execution_count": 2,
   "metadata": {},
   "outputs": [
    {
     "data": {
      "text/plain": [
       "0"
      ]
     },
     "execution_count": 2,
     "metadata": {},
     "output_type": "execute_result"
    }
   ],
   "source": [
    "#data = glob.glob('Propagandas_dataset/music_speech/music_wav/*.wav')\n",
    "#len(data)\n",
    "\n",
    "data = glob.glob('Propagandas_dataset/gtzan/*.wav')\n",
    "len(data)"
   ]
  },
  {
   "cell_type": "code",
   "execution_count": 3,
   "metadata": {},
   "outputs": [
    {
     "name": "stdout",
     "output_type": "stream",
     "text": [
      "Propagandas_dataset/music_speech/speech_wav/comedy.wav\n",
      "22050\n",
      "Propagandas_dataset/music_speech/speech_wav/teachers.wav\n",
      "22050\n",
      "Propagandas_dataset/music_speech/speech_wav/undergrad.wav\n",
      "22050\n",
      "Propagandas_dataset/music_speech/speech_wav/pulp2.wav\n",
      "22050\n",
      "Propagandas_dataset/music_speech/speech_wav/pulp.wav\n",
      "22050\n",
      "Propagandas_dataset/music_speech/speech_wav/nether.wav\n",
      "22050\n",
      "Propagandas_dataset/music_speech/speech_wav/lena.wav\n",
      "22050\n",
      "Propagandas_dataset/music_speech/speech_wav/psychic.wav\n",
      "22050\n",
      "Propagandas_dataset/music_speech/speech_wav/allison.wav\n",
      "22050\n",
      "Propagandas_dataset/music_speech/speech_wav/oneday.wav\n",
      "22050\n",
      "Propagandas_dataset/music_speech/speech_wav/emil.wav\n",
      "22050\n",
      "Propagandas_dataset/music_speech/speech_wav/god.wav\n",
      "22050\n",
      "Propagandas_dataset/music_speech/speech_wav/geography1.wav\n",
      "22050\n",
      "Propagandas_dataset/music_speech/speech_wav/teachers1.wav\n",
      "22050\n",
      "Propagandas_dataset/music_speech/speech_wav/fire.wav\n",
      "22050\n",
      "Propagandas_dataset/music_speech/speech_wav/nj105a.wav\n",
      "22050\n",
      "Propagandas_dataset/music_speech/speech_wav/acomic2.wav\n",
      "22050\n",
      "Propagandas_dataset/music_speech/speech_wav/greek.wav\n",
      "22050\n",
      "Propagandas_dataset/music_speech/speech_wav/jony.wav\n",
      "22050\n",
      "Propagandas_dataset/music_speech/speech_wav/pulp1.wav\n",
      "22050\n",
      "Propagandas_dataset/music_speech/speech_wav/jvoice.wav\n",
      "22050\n",
      "Propagandas_dataset/music_speech/speech_wav/smoking.wav\n",
      "22050\n",
      "Propagandas_dataset/music_speech/speech_wav/danie1.wav\n",
      "22050\n",
      "Propagandas_dataset/music_speech/speech_wav/voice.wav\n",
      "22050\n",
      "Propagandas_dataset/music_speech/speech_wav/female.wav\n",
      "22050\n",
      "Propagandas_dataset/music_speech/speech_wav/vegetables1.wav\n",
      "22050\n",
      "Propagandas_dataset/music_speech/speech_wav/dialogue.wav\n",
      "22050\n",
      "Propagandas_dataset/music_speech/speech_wav/serbian.wav\n",
      "22050\n",
      "Propagandas_dataset/music_speech/speech_wav/fem_rock.wav\n",
      "22050\n",
      "Propagandas_dataset/music_speech/speech_wav/vegetables.wav\n",
      "22050\n",
      "Propagandas_dataset/music_speech/speech_wav/kid.wav\n",
      "22050\n",
      "Propagandas_dataset/music_speech/speech_wav/charles.wav\n",
      "22050\n",
      "Propagandas_dataset/music_speech/speech_wav/ellhnika.wav\n",
      "22050\n",
      "Propagandas_dataset/music_speech/speech_wav/diamond.wav\n",
      "22050\n",
      "Propagandas_dataset/music_speech/speech_wav/greek1.wav\n",
      "22050\n",
      "Propagandas_dataset/music_speech/speech_wav/relation.wav\n",
      "22050\n",
      "Propagandas_dataset/music_speech/speech_wav/bathroom1.wav\n",
      "22050\n",
      "Propagandas_dataset/music_speech/speech_wav/dialogue2.wav\n",
      "22050\n",
      "Propagandas_dataset/music_speech/speech_wav/georg.wav\n",
      "22050\n",
      "Propagandas_dataset/music_speech/speech_wav/news1.wav\n",
      "22050\n",
      "Propagandas_dataset/music_speech/speech_wav/acomic.wav\n",
      "22050\n",
      "Propagandas_dataset/music_speech/speech_wav/vegetables2.wav\n",
      "22050\n",
      "Propagandas_dataset/music_speech/speech_wav/austria.wav\n",
      "22050\n",
      "Propagandas_dataset/music_speech/speech_wav/my_voice.wav\n",
      "22050\n",
      "Propagandas_dataset/music_speech/speech_wav/china.wav\n",
      "22050\n",
      "Propagandas_dataset/music_speech/speech_wav/teachers2.wav\n",
      "22050\n",
      "Propagandas_dataset/music_speech/speech_wav/shannon.wav\n",
      "22050\n",
      "Propagandas_dataset/music_speech/speech_wav/news2.wav\n",
      "22050\n",
      "Propagandas_dataset/music_speech/speech_wav/male.wav\n",
      "22050\n",
      "Propagandas_dataset/music_speech/speech_wav/voices.wav\n",
      "22050\n",
      "Propagandas_dataset/music_speech/speech_wav/stupid.wav\n",
      "22050\n",
      "Propagandas_dataset/music_speech/speech_wav/amal.wav\n",
      "22050\n",
      "Propagandas_dataset/music_speech/speech_wav/smoke1.wav\n",
      "22050\n",
      "Propagandas_dataset/music_speech/speech_wav/dialogue1.wav\n",
      "22050\n",
      "Propagandas_dataset/music_speech/speech_wav/chant.wav\n",
      "22050\n",
      "Propagandas_dataset/music_speech/speech_wav/sleep.wav\n",
      "22050\n",
      "Propagandas_dataset/music_speech/speech_wav/danie.wav\n",
      "22050\n",
      "Propagandas_dataset/music_speech/speech_wav/kedar.wav\n",
      "22050\n",
      "Propagandas_dataset/music_speech/speech_wav/thlui.wav\n",
      "22050\n",
      "Propagandas_dataset/music_speech/speech_wav/india.wav\n",
      "22050\n",
      "Propagandas_dataset/music_speech/speech_wav/conversion.wav\n",
      "22050\n",
      "Propagandas_dataset/music_speech/speech_wav/geography.wav\n",
      "22050\n",
      "Propagandas_dataset/music_speech/speech_wav/nj105.wav\n",
      "22050\n",
      "Propagandas_dataset/music_speech/speech_wav/comedy1.wav\n",
      "22050\n"
     ]
    }
   ],
   "source": [
    "for f in range(len(data)):\n",
    "    audio, sr = librosa.load(data[f])\n",
    "    print (data[f])\n",
    "    print (sr)\n",
    "    #print ('len audio: ', len(audio))\n",
    "    for i in range(6):\n",
    "        audio1 = audio[(sr*i*5): (sr*5*(i+1))]\n",
    "        #librosa.output.write_wav('Propagandas_dataset/music_speech/Trechos_Speech_Gtzan/speech' + str(f) + str(i+1) + '.wav', audio1, sr, norm=False)\n",
    "        #input()\n",
    "        #print ('len trecho: ', len(audio1))\n",
    "    "
   ]
  },
  {
   "cell_type": "code",
   "execution_count": 39,
   "metadata": {},
   "outputs": [
    {
     "name": "stdout",
     "output_type": "stream",
     "text": [
      "Propagandas_dataset/music_speech/Trechos_Speech_Gtzan/speech483.wav\n",
      "speech483.wav\n",
      "Propagandas_dataset/music_speech/Trechos_Music_Gtzan/music464.wav\n",
      "music464.wav\n"
     ]
    }
   ],
   "source": [
    "d = glob.glob('Propagandas_dataset/music_speech/Trechos_Speech_Gtzan/*.wav')\n",
    "len(d)\n",
    "print (d[0])\n",
    "filename = d[0].split('/')[3]\n",
    "print (filename)\n",
    "\n",
    "d2 = glob.glob('Propagandas_dataset/music_speech/Trechos_Music_Gtzan/*.wav')\n",
    "len(d2)\n",
    "print (d2[0])\n",
    "filename2 = d2[0].split('/')[3]\n",
    "print (filename2)\n"
   ]
  },
  {
   "cell_type": "code",
   "execution_count": 40,
   "metadata": {},
   "outputs": [],
   "source": [
    "f = open(\"Propagandas_dataset/music_speech/Gtzan_5seg.txt\",\"w+\")\n",
    "for i2 in d2:\n",
    "    filename2 = i2.split('/')[3]\n",
    "    f.write(filename2)\n",
    "    f.write('\\t')\n",
    "    f.write('P')\n",
    "    f.write('\\n')\n",
    "for i in d:\n",
    "    filename = i.split('/')[3]\n",
    "    f.write(filename)\n",
    "    f.write('\\t')\n",
    "    f.write('NP')\n",
    "    f.write('\\n')\n",
    "f.close()"
   ]
  },
  {
   "cell_type": "code",
   "execution_count": null,
   "metadata": {},
   "outputs": [],
   "source": []
  }
 ],
 "metadata": {
  "kernelspec": {
   "display_name": "Python 3",
   "language": "python",
   "name": "python3"
  },
  "language_info": {
   "codemirror_mode": {
    "name": "ipython",
    "version": 3
   },
   "file_extension": ".py",
   "mimetype": "text/x-python",
   "name": "python",
   "nbconvert_exporter": "python",
   "pygments_lexer": "ipython3",
   "version": "3.6.5"
  }
 },
 "nbformat": 4,
 "nbformat_minor": 2
}
