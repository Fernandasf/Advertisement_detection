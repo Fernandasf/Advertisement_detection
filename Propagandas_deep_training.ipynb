{
 "cells": [
  {
   "cell_type": "markdown",
   "metadata": {},
   "source": [
    "## Convolutional Networks + Dense applied in radio records using Spectrograms\n",
    "\n",
    "    Authors: Fernanda Ferreira and Victor Paganotto\n",
    "    Professor: Tiago F. Tavares\n",
    "    \n",
    "    date: Feb/2019"
   ]
  },
  {
   "cell_type": "markdown",
   "metadata": {},
   "source": [
    "# Conv2D + Maxpooling + Dense building"
   ]
  },
  {
   "cell_type": "code",
   "execution_count": 1,
   "metadata": {},
   "outputs": [
    {
     "name": "stderr",
     "output_type": "stream",
     "text": [
      "/home/fernanda/anaconda3/lib/python3.6/site-packages/h5py/__init__.py:36: FutureWarning: Conversion of the second argument of issubdtype from `float` to `np.floating` is deprecated. In future, it will be treated as `np.float64 == np.dtype(float).type`.\n",
      "  from ._conv import register_converters as _register_converters\n",
      "Using TensorFlow backend.\n"
     ]
    }
   ],
   "source": [
    "from __future__ import print_function\n",
    "import keras\n",
    "from keras.datasets import mnist\n",
    "from keras.models import Sequential\n",
    "from keras.layers import Dense, Dropout, Flatten\n",
    "from keras.layers import Conv2D, MaxPooling2D, Conv1D\n",
    "from keras import backend as K\n",
    "from sklearn.externals import joblib\n",
    "import numpy as np\n",
    "%matplotlib inline\n",
    "import matplotlib.pyplot as plt"
   ]
  },
  {
   "cell_type": "code",
   "execution_count": 2,
   "metadata": {},
   "outputs": [],
   "source": [
    "# ------------------- 10seg --------------------------\n",
    "# x_train_np = joblib.load(\"10seg/features/x_train.pkl\")\n",
    "# x_test_np = joblib.load(\"10seg/features/x_test.pkl\")\n",
    "# x_val_np = joblib.load(\"10seg/features/x_val.pkl\")\n",
    "# y_train_np = joblib.load(\"10seg/features/y_train.pkl\")\n",
    "# y_test_np = joblib.load(\"10seg/features/y_test.pkl\")\n",
    "# y_val_np = joblib.load(\"10seg/features/y_val.pkl\")\n",
    "\n",
    "# ------------------- 2seg --------------------------\n",
    "x_train_np = joblib.load(\"2seg/features/x_train.pkl\")\n",
    "x_test_np = joblib.load(\"2seg/features/x_test.pkl\")\n",
    "x_val_np = joblib.load(\"2seg/features/x_val.pkl\")\n",
    "y_train_np = joblib.load(\"2seg/features/y_train.pkl\")\n",
    "y_test_np = joblib.load(\"2seg/features/y_test.pkl\")\n",
    "y_val_np = joblib.load(\"2seg/features/y_val.pkl\")\n"
   ]
  },
  {
   "cell_type": "code",
   "execution_count": 3,
   "metadata": {},
   "outputs": [],
   "source": [
    "x_train_np = np.array(x_train_np)\n",
    "x_test_np = np.array(x_test_np)\n",
    "x_val_np = np.array(x_val_np)\n",
    "\n",
    "y_train_np = np.array(y_train_np)\n",
    "y_test_np = np.array(y_test_np)\n",
    "y_val_np = np.array(y_val_np)"
   ]
  },
  {
   "cell_type": "code",
   "execution_count": 4,
   "metadata": {},
   "outputs": [
    {
     "name": "stdout",
     "output_type": "stream",
     "text": [
      "x_train shape: (4065, 251, 227, 1)\n",
      "4065 train samples\n",
      "1017 val samples\n",
      "5007 test samples\n",
      "(251, 227, 1)\n"
     ]
    }
   ],
   "source": [
    "# input image dimensions\n",
    "img_rows = x_train_np.shape[1]\n",
    "img_cols = x_train_np.shape[2]\n",
    "\n",
    "if K.image_data_format() == 'channels_first':\n",
    "    x_train_np = x_train_np.reshape(x_train_np.shape[0], 1, img_rows, img_cols)\n",
    "    x_val_np = x_val_np.reshape(x_val_np.shape[0], 1, img_rows, img_cols)\n",
    "    x_test_np = x_test_np.reshape(x_test_np.shape[0], 1, img_rows, img_cols)\n",
    "    input_shape = (1, img_rows, img_cols)\n",
    "else:\n",
    "    x_train_np = x_train_np.reshape(x_train_np.shape[0], img_rows, img_cols, 1)\n",
    "    x_val_np = x_val_np.reshape(x_val_np.shape[0], img_rows, img_cols, 1)\n",
    "    x_test_np = x_test_np.reshape(x_test_np.shape[0], img_rows, img_cols, 1)\n",
    "    input_shape = (img_rows, img_cols, 1)\n",
    "\n",
    "x_train_np = x_train_np.astype('float32')\n",
    "x_val_np = x_val_np.astype('float32')\n",
    "x_test_np = x_test_np.astype('float32')\n",
    "x_train_np /= 255\n",
    "x_val_np /= 255\n",
    "x_test_np /= 255\n",
    "print('x_train shape:', x_train_np.shape)\n",
    "print(x_train_np.shape[0], 'train samples')\n",
    "print(x_val_np.shape[0], 'val samples')\n",
    "print(x_test_np.shape[0], 'test samples')\n",
    "print (input_shape)\n",
    "\n"
   ]
  },
  {
   "cell_type": "code",
   "execution_count": 5,
   "metadata": {},
   "outputs": [
    {
     "name": "stdout",
     "output_type": "stream",
     "text": [
      "y_train shape: (4065,)\n",
      "y_train shape: (4065, 2)\n"
     ]
    }
   ],
   "source": [
    "print ('y_train shape:', y_train_np.shape)\n",
    "num_classes = 2\n",
    "y_train_np = keras.utils.to_categorical(y_train_np, num_classes)\n",
    "y_test_np = keras.utils.to_categorical(y_test_np, num_classes)\n",
    "y_val_np = keras.utils.to_categorical(y_val_np, num_classes)\n",
    "\n",
    "print ('y_train shape:', y_train_np.shape)"
   ]
  },
  {
   "cell_type": "code",
   "execution_count": 6,
   "metadata": {},
   "outputs": [],
   "source": [
    "batch_size = 20\n",
    "epochs = 20"
   ]
  },
  {
   "cell_type": "code",
   "execution_count": 7,
   "metadata": {},
   "outputs": [
    {
     "name": "stdout",
     "output_type": "stream",
     "text": [
      "_________________________________________________________________\n",
      "Layer (type)                 Output Shape              Param #   \n",
      "=================================================================\n",
      "conv2d_1 (Conv2D)            (None, 249, 225, 16)      160       \n",
      "_________________________________________________________________\n",
      "max_pooling2d_1 (MaxPooling2 (None, 124, 112, 16)      0         \n",
      "_________________________________________________________________\n",
      "conv2d_2 (Conv2D)            (None, 122, 110, 16)      2320      \n",
      "_________________________________________________________________\n",
      "max_pooling2d_2 (MaxPooling2 (None, 61, 55, 16)        0         \n",
      "_________________________________________________________________\n",
      "conv2d_3 (Conv2D)            (None, 59, 53, 16)        2320      \n",
      "_________________________________________________________________\n",
      "max_pooling2d_3 (MaxPooling2 (None, 29, 26, 16)        0         \n",
      "_________________________________________________________________\n",
      "flatten_1 (Flatten)          (None, 12064)             0         \n",
      "_________________________________________________________________\n",
      "dense_1 (Dense)              (None, 200)               2413000   \n",
      "_________________________________________________________________\n",
      "dense_2 (Dense)              (None, 2)                 402       \n",
      "=================================================================\n",
      "Total params: 2,418,202\n",
      "Trainable params: 2,418,202\n",
      "Non-trainable params: 0\n",
      "_________________________________________________________________\n"
     ]
    }
   ],
   "source": [
    "model = Sequential()\n",
    "# Input Layer\n",
    "input_shape=input_shape\n",
    "# Hidden Layer\n",
    "model.add(Conv2D(16, kernel_size=(3, 3), activation='relu', input_shape=input_shape))\n",
    "model.add(MaxPooling2D(pool_size=(2, 2)))\n",
    "model.add(Conv2D(16, kernel_size=(3, 3), activation='relu'))\n",
    "model.add(MaxPooling2D(pool_size=(2, 2)))\n",
    "model.add(Conv2D(16, kernel_size=(3, 3), activation='relu'))\n",
    "model.add(MaxPooling2D(pool_size=(2, 2)))\n",
    "#model.add(Conv2D(16, kernel_size=(3, 3), activation='relu'))\n",
    "#model.add(MaxPooling2D(pool_size=(2, 2)))\n",
    "#model.add(Conv2D(16, kernel_size=(3, 3), activation='relu'))\n",
    "#model.add(MaxPooling2D(pool_size=(2, 2)))\n",
    "model.add(Flatten())\n",
    "model.add(Dense(200, activation='relu'))\n",
    "# Output Layer\n",
    "model.add(Dense(num_classes, activation='softmax'))\n",
    "model.summary()"
   ]
  },
  {
   "cell_type": "code",
   "execution_count": 8,
   "metadata": {},
   "outputs": [],
   "source": [
    "def f1(y_true, y_pred):\n",
    "    def recall(y_true, y_pred):\n",
    "        \n",
    "        true_positives = K.sum(K.round(K.clip(y_true * y_pred, 0, 1)))\n",
    "        possible_positives = K.sum(K.round(K.clip(y_true, 0, 1)))\n",
    "        recall = true_positives / (possible_positives + K.epsilon())\n",
    "        return recall\n",
    "\n",
    "    def precision(y_true, y_pred):\n",
    "        \n",
    "        true_positives = K.sum(K.round(K.clip(y_true * y_pred, 0, 1)))\n",
    "        predicted_positives = K.sum(K.round(K.clip(y_pred, 0, 1)))\n",
    "        precision = true_positives / (predicted_positives + K.epsilon())\n",
    "        return precision\n",
    "    \n",
    "    precision = precision(y_true, y_pred)\n",
    "    recall = recall(y_true, y_pred)\n",
    "    \n",
    "    return 2*((precision*recall)/(precision+recall+K.epsilon()))"
   ]
  },
  {
   "cell_type": "code",
   "execution_count": 9,
   "metadata": {},
   "outputs": [],
   "source": [
    "#model.compile(loss='categorical_crossentropy', metrics=['accuracy'], optimizer='adam')\n",
    "model.compile(loss='categorical_crossentropy', metrics=[f1], optimizer='adam')\n",
    "#model.compile(loss='categorical_crossentropy', metrics=['accuracy'], optimizer='sgd')"
   ]
  },
  {
   "cell_type": "code",
   "execution_count": 10,
   "metadata": {},
   "outputs": [
    {
     "name": "stdout",
     "output_type": "stream",
     "text": [
      "Train on 4065 samples, validate on 1017 samples\n",
      "Epoch 1/20\n",
      "4065/4065 [==============================] - 32s 8ms/step - loss: 0.4394 - f1: 0.7941 - val_loss: 0.3691 - val_f1: 0.8378\n",
      "Epoch 2/20\n",
      "4065/4065 [==============================] - 29s 7ms/step - loss: 0.3195 - f1: 0.8713 - val_loss: 0.3368 - val_f1: 0.8604\n",
      "Epoch 3/20\n",
      "4065/4065 [==============================] - 29s 7ms/step - loss: 0.2959 - f1: 0.8888 - val_loss: 0.3211 - val_f1: 0.8761\n",
      "Epoch 4/20\n",
      "4065/4065 [==============================] - 29s 7ms/step - loss: 0.2413 - f1: 0.9154 - val_loss: 0.2583 - val_f1: 0.8958\n",
      "Epoch 5/20\n",
      "4065/4065 [==============================] - 28s 7ms/step - loss: 0.2205 - f1: 0.9242 - val_loss: 0.2599 - val_f1: 0.9017\n",
      "Epoch 6/20\n",
      "4065/4065 [==============================] - 29s 7ms/step - loss: 0.1835 - f1: 0.9373 - val_loss: 0.2227 - val_f1: 0.9086\n",
      "Epoch 7/20\n",
      "4065/4065 [==============================] - 29s 7ms/step - loss: 0.1633 - f1: 0.9419 - val_loss: 0.1929 - val_f1: 0.9253\n",
      "Epoch 8/20\n",
      "4065/4065 [==============================] - 29s 7ms/step - loss: 0.1475 - f1: 0.9501 - val_loss: 0.2003 - val_f1: 0.9174\n",
      "Epoch 9/20\n",
      "4065/4065 [==============================] - 28s 7ms/step - loss: 0.1303 - f1: 0.9506 - val_loss: 0.1984 - val_f1: 0.9164\n",
      "Epoch 10/20\n",
      "4065/4065 [==============================] - 29s 7ms/step - loss: 0.1206 - f1: 0.9560 - val_loss: 0.1938 - val_f1: 0.9223\n"
     ]
    }
   ],
   "source": [
    "history = model.fit(x_train_np, y_train_np,\n",
    "                    batch_size=batch_size, epochs=epochs, verbose=1,\n",
    "                    validation_data=(x_val_np, y_val_np), callbacks=[keras.callbacks.EarlyStopping(monitor='val_loss',\n",
    "                              min_delta=0,\n",
    "                              patience=3,\n",
    "                              verbose=0, mode='auto')])"
   ]
  },
  {
   "cell_type": "code",
   "execution_count": 11,
   "metadata": {},
   "outputs": [
    {
     "data": {
      "image/png": "[encoded data removed]",
      "text/plain": [
       "<Figure size 432x288 with 1 Axes>"
      ]
     },
     "metadata": {},
     "output_type": "display_data"
    },
    {
     "data": {
      "image/png": "[encoded data removed]",
      "text/plain": [
       "<Figure size 432x288 with 1 Axes>"
      ]
     },
     "metadata": {},
     "output_type": "display_data"
    }
   ],
   "source": [
    "# Plot training & validation accuracy values\n",
    "plt.plot(history.history['f1'])\n",
    "plt.plot(history.history['val_f1'])\n",
    "plt.title('Model F1-score')\n",
    "plt.ylabel('F1-score')\n",
    "plt.xlabel('Epoch')\n",
    "plt.legend(['Train', 'Test'], loc='upper left')\n",
    "plt.show()\n",
    "\n",
    "# Plot training & validation loss values\n",
    "plt.plot(history.history['loss'])\n",
    "plt.plot(history.history['val_loss'])\n",
    "plt.title('Model loss')\n",
    "plt.ylabel('Loss')\n",
    "plt.xlabel('Epoch')\n",
    "plt.legend(['Train', 'Test'], loc='upper left')\n",
    "plt.show()"
   ]
  },
  {
   "cell_type": "code",
   "execution_count": 12,
   "metadata": {},
   "outputs": [
    {
     "name": "stdout",
     "output_type": "stream",
     "text": [
      "5007/5007 [==============================] - 14s 3ms/step\n",
      "Test loss: 0.9000407950589941\n",
      "Test F1: 0.6832434204713013\n"
     ]
    }
   ],
   "source": [
    "#score = model.evaluate(x_test_np, y_test_np, verbose=1)\n",
    "score = model.evaluate(x_test_np, y_test_np, batch_size=10, verbose=1)\n",
    "print('Test loss:', score[0])\n",
    "print('Test F1:', score[1])\n",
    "\n"
   ]
  },
  {
   "cell_type": "markdown",
   "metadata": {},
   "source": [
    "## References\n",
    "\n",
    "- https://stackoverflow.com/questions/43906048/keras-early-stopping\n",
    "- https://keras.io/callbacks/"
   ]
  },
  {
   "cell_type": "code",
   "execution_count": null,
   "metadata": {},
   "outputs": [],
   "source": []
  }
 ],
 "metadata": {
  "kernelspec": {
   "display_name": "Python 3",
   "language": "python",
   "name": "python3"
  },
  "language_info": {
   "codemirror_mode": {
    "name": "ipython",
    "version": 3
   },
   "file_extension": ".py",
   "mimetype": "text/x-python",
   "name": "python",
   "nbconvert_exporter": "python",
   "pygments_lexer": "ipython3",
   "version": "3.6.5"
  }
 },
 "nbformat": 4,
 "nbformat_minor": 2
}
