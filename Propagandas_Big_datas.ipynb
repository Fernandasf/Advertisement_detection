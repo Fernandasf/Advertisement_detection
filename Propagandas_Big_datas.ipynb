{
 "cells": [
  {
   "cell_type": "markdown",
   "metadata": {},
   "source": [
    "## To Calculate and Save Spectrograms\n",
    "\n",
    "    Authors: Fernanda Ferreira and Victor Paganotto\n",
    "    Professor: Tiago F. Tavares\n",
    "    \n",
    "    date: Mar/2019"
   ]
  },
  {
   "cell_type": "markdown",
   "metadata": {},
   "source": [
    "## Import Libraries"
   ]
  },
  {
   "cell_type": "code",
   "execution_count": 1,
   "metadata": {},
   "outputs": [
    {
     "name": "stderr",
     "output_type": "stream",
     "text": [
      "/home/fernanda/anaconda3/lib/python3.6/site-packages/h5py/__init__.py:36: FutureWarning: Conversion of the second argument of issubdtype from `float` to `np.floating` is deprecated. In future, it will be treated as `np.float64 == np.dtype(float).type`.\n",
      "  from ._conv import register_converters as _register_converters\n",
      "Using TensorFlow backend.\n"
     ]
    }
   ],
   "source": [
    "%matplotlib inline\n",
    "import matplotlib.pyplot as plt\n",
    "import numpy as np\n",
    "import glob\n",
    "import librosa\n",
    "import librosa.display as ld\n",
    "# Printa todos os valores do array\n",
    "#np.set_printoptions(threshold=np.inf)\n",
    "np.set_printoptions(threshold=10)\n",
    "import pandas as pd\n",
    "#from sklearn.cross_validation import train_test_split\n",
    "from sklearn.model_selection import train_test_split\n",
    "import keras\n",
    "import os\n",
    "import re\n",
    "from sklearn.externals import joblib"
   ]
  },
  {
   "cell_type": "markdown",
   "metadata": {},
   "source": [
    "## To load records"
   ]
  },
  {
   "cell_type": "code",
   "execution_count": 2,
   "metadata": {},
   "outputs": [
    {
     "name": "stdout",
     "output_type": "stream",
     "text": [
      "19824\n"
     ]
    }
   ],
   "source": [
    "data = glob.glob('1seg/fold1/*.mp3')\n",
    "#data = glob.glob('../../Projeto_phd/academia/*.wav')\n",
    "print (len(data))\n",
    "\n",
    "#19830/5 = 3966\n",
    "#datas = ['data[0:3965]', 'data[3966:7931]', 'data[7932:11897]', 'data[11898:15863]', 'data[15864:19830]']"
   ]
  },
  {
   "cell_type": "code",
   "execution_count": 3,
   "metadata": {},
   "outputs": [],
   "source": [
    "len_audios = []\n",
    "audios = []\n",
    "\n",
    "for file in data:\n",
    "    audio, sr = librosa.core.load(file, sr=None, mono=True, offset=0.0, duration=None)\n",
    "    len_audios.append(len(audio))\n",
    "    audios.append(audio)\n",
    "    max_audio = max(len_audios)\n",
    "\n",
    "hop_length = 400\n",
    "n_fft = 500\n",
    "\n",
    "#To convert the hop length and frame size to units of seconds:\n",
    "#print (\"hop length[s]:\", float(hop_length)/sr) # units of seconds\n",
    "#print (\"frame size[s]:\",float(n_fft)/sr) # units of seconds"
   ]
  },
  {
   "cell_type": "code",
   "execution_count": 4,
   "metadata": {},
   "outputs": [],
   "source": [
    "#audios dividido por 2:\n",
    "audios1 = audios[0:9912]\n",
    "audios2 = audios[9912: 19824]"
   ]
  },
  {
   "cell_type": "code",
   "execution_count": 5,
   "metadata": {},
   "outputs": [],
   "source": [
    "#audios_resize = []\n",
    "\n",
    "def my_specs(audios):\n",
    "    specs = []\n",
    "\n",
    "    for i in range(len(audios)):\n",
    "        shape = (max(len_audios))\n",
    "        i_audio = np.array(audios[i])\n",
    "        i_audio.resize(shape)\n",
    "        x = librosa.stft(i_audio, n_fft=n_fft, hop_length=hop_length)\n",
    "        X = librosa.amplitude_to_db(np.abs(x), ref=np.max)\n",
    "        specs.append(X)\n",
    "        #audios_resize.append(i_audio)\n",
    "    return specs\n",
    "\n",
    "#Librosa.stft return:\n",
    "#np.ndarray [shape=(1 + n_fft/2, t), dtype=dtype]"
   ]
  },
  {
   "cell_type": "code",
   "execution_count": 6,
   "metadata": {},
   "outputs": [],
   "source": [
    "specs1 = my_specs(audios1)"
   ]
  },
  {
   "cell_type": "code",
   "execution_count": 7,
   "metadata": {},
   "outputs": [],
   "source": [
    "specs2 = my_specs(audios2)"
   ]
  },
  {
   "cell_type": "code",
   "execution_count": 8,
   "metadata": {},
   "outputs": [],
   "source": [
    "specs_all = specs1 + specs2"
   ]
  },
  {
   "cell_type": "code",
   "execution_count": 9,
   "metadata": {},
   "outputs": [],
   "source": [
    "specs1_np = np.array(specs1)\n"
   ]
  },
  {
   "cell_type": "code",
   "execution_count": 10,
   "metadata": {},
   "outputs": [],
   "source": [
    "specs2_np = np.array(specs2)"
   ]
  },
  {
   "cell_type": "code",
   "execution_count": 11,
   "metadata": {},
   "outputs": [],
   "source": [
    "specs_all_np = np.concatenate((specs1_np, specs2_np), axis=0)"
   ]
  },
  {
   "cell_type": "markdown",
   "metadata": {},
   "source": [
    "## To load Labels"
   ]
  },
  {
   "cell_type": "code",
   "execution_count": 12,
   "metadata": {},
   "outputs": [],
   "source": [
    "l = []\n",
    "for file in data:\n",
    "    (dirname, sname) = os.path.split(file)\n",
    "    (name, ext) = os.path.splitext(sname)\n",
    "    n = re.split('-', name, flags=re.IGNORECASE)\n",
    "    n2 = re.split('[0-9]+', n[0])\n",
    "    #print (n[0])]\n",
    "    #print (n2[1])\n",
    "    l.append(n2[1])"
   ]
  },
  {
   "cell_type": "code",
   "execution_count": 13,
   "metadata": {},
   "outputs": [
    {
     "data": {
      "text/plain": [
       "{'P': 9980, 'NP': 9844}"
      ]
     },
     "execution_count": 13,
     "metadata": {},
     "output_type": "execute_result"
    }
   ],
   "source": [
    "def count_elements(seq) -> dict:\n",
    "    \"\"\"Tally elements from `seq`.\"\"\"\n",
    "    hist = {}\n",
    "    for i in seq:\n",
    "        hist[i] = hist.get(i, 0) + 1\n",
    "    return hist\n",
    "\n",
    "l_count = count_elements(l)\n",
    "l_count"
   ]
  },
  {
   "cell_type": "markdown",
   "metadata": {},
   "source": [
    "## To separate 80% to train and 20% to test"
   ]
  },
  {
   "cell_type": "code",
   "execution_count": 14,
   "metadata": {},
   "outputs": [],
   "source": [
    "#stratify: certifica a mesma quantidade de audios de cada classe.\n",
    "x_train1, x_test, y_train1, y_test = train_test_split(specs_all_np, l, test_size=0.5, random_state=42, stratify=l)\n",
    "x_train, x_val, y_train, y_val = train_test_split(x_train1, y_train1, test_size=0.2, random_state=42, stratify=y_train1)\n",
    "\n",
    "#print (type(x_train))"
   ]
  },
  {
   "cell_type": "markdown",
   "metadata": {},
   "source": [
    "## Transform labels in binary"
   ]
  },
  {
   "cell_type": "code",
   "execution_count": 15,
   "metadata": {},
   "outputs": [],
   "source": [
    "# convert class vectors to binary class matrices\n",
    "def string_to_binary(lista):\n",
    "    \n",
    "    for i in range(len(lista)):\n",
    "        if lista[i] == 'P':\n",
    "            lista[i] = 0\n",
    "        elif lista[i] == 'NP':\n",
    "            lista[i] = 1\n",
    "    return lista"
   ]
  },
  {
   "cell_type": "code",
   "execution_count": 16,
   "metadata": {},
   "outputs": [
    {
     "name": "stdout",
     "output_type": "stream",
     "text": [
      "1983\n",
      "7929\n",
      "9912\n"
     ]
    }
   ],
   "source": [
    "y_train_bi = string_to_binary(y_train)\n",
    "#print (y_train_bi)\n",
    "\n",
    "y_test_bi = string_to_binary(y_test)\n",
    "#print (y_test_bi)\n",
    "\n",
    "y_val_bi = string_to_binary(y_val)\n",
    "#print (y_val_bi)\n",
    "\n",
    "print (len(x_val))\n",
    "print (len(x_train))\n",
    "print (len(x_test))\n",
    "#print (x_train_np)"
   ]
  },
  {
   "cell_type": "code",
   "execution_count": 19,
   "metadata": {},
   "outputs": [
    {
     "data": {
      "text/plain": [
       "['features_propaganda_50_50/1segs/y_val.pkl']"
      ]
     },
     "execution_count": 19,
     "metadata": {},
     "output_type": "execute_result"
    }
   ],
   "source": [
    "joblib.dump(x_train, \"features_propaganda_50_50/1segs/x_train.pkl\")\n",
    "joblib.dump(x_test, \"features_propaganda_50_50/1segs/x_test.pkl\")\n",
    "joblib.dump(x_val, \"features_propaganda_50_50/1segs/x_val.pkl\")\n",
    "joblib.dump(y_train, \"features_propaganda_50_50/1segs/y_train.pkl\")\n",
    "joblib.dump(y_test, \"features_propaganda_50_50/1segs/y_test.pkl\")\n",
    "joblib.dump(y_val, \"features_propaganda_50_50/1segs/y_val.pkl\")\n"
   ]
  },
  {
   "cell_type": "code",
   "execution_count": null,
   "metadata": {},
   "outputs": [],
   "source": []
  }
 ],
 "metadata": {
  "kernelspec": {
   "display_name": "Python 3",
   "language": "python",
   "name": "python3"
  },
  "language_info": {
   "codemirror_mode": {
    "name": "ipython",
    "version": 3
   },
   "file_extension": ".py",
   "mimetype": "text/x-python",
   "name": "python",
   "nbconvert_exporter": "python",
   "pygments_lexer": "ipython3",
   "version": "3.6.5"
  }
 },
 "nbformat": 4,
 "nbformat_minor": 2
}
