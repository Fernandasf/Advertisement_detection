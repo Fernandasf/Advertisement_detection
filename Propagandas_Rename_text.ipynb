{
 "cells": [
  {
   "cell_type": "code",
   "execution_count": 7,
   "metadata": {},
   "outputs": [],
   "source": [
    "import pandas as pd\n",
    "\n",
    "data = pd.read_csv('/home/fernanda/Documentos/My_Github/Deep_study-master/Propagandas_dataset/Trans_NoTrans/Trans_NoTrans_test.txt', sep=\"\\t\", header=None)\n",
    "#data.columns = [\"a\", \"b\", \"c\", \"etc.\"]\n",
    "data_0 = data.iloc[:,0]\n",
    "data_0[0:10]\n",
    "\n",
    "f = open('/home/fernanda/Documentos/My_Github/Deep_study-master/Propagandas_dataset/Trans_NoTrans/Trans_NoTrans_test_namesAudios.txt', 'w')\n",
    "for i in data_0:    \n",
    "    f.write(str(i))\n",
    "    f.write('\\n')\n",
    "f.close()"
   ]
  },
  {
   "cell_type": "code",
   "execution_count": null,
   "metadata": {},
   "outputs": [],
   "source": []
  }
 ],
 "metadata": {
  "kernelspec": {
   "display_name": "Python 3",
   "language": "python",
   "name": "python3"
  },
  "language_info": {
   "codemirror_mode": {
    "name": "ipython",
    "version": 3
   },
   "file_extension": ".py",
   "mimetype": "text/x-python",
   "name": "python",
   "nbconvert_exporter": "python",
   "pygments_lexer": "ipython3",
   "version": "3.6.5"
  }
 },
 "nbformat": 4,
 "nbformat_minor": 2
}
