{
 "cells": [
  {
   "cell_type": "code",
   "execution_count": 8,
   "metadata": {},
   "outputs": [],
   "source": [
    "import pandas as pd\n",
    "\n",
    "data = pd.read_csv('/home/fernanda/Documentos/My_Github/Deep_study-master/PROPAGANDAS/Novos_testes/Completa/Completa_5seg_test.txt', sep=\"\\t\", header=None)\n",
    "#data.columns = [\"a\", \"b\", \"c\", \"etc.\"]\n",
    "data_0 = data.iloc[:,0]\n",
    "data_0[0:10]\n",
    "\n",
    "f = open('/home/fernanda/Documentos/My_Github/Deep_study-master/PROPAGANDAS/Novos_testes/Completa/Completa_5seg_test_namesAudios.txt', 'w')\n",
    "for i in data_0:    \n",
    "    f.write(str(i))\n",
    "    f.write('\\n')\n",
    "f.close()"
   ]
  },
  {
   "cell_type": "markdown",
   "metadata": {},
   "source": [
    "------------------- Obter arquivos através dos nomes em txt --------------\n",
    "\n",
    "Dadosfold1test_namesAudios.txt = nome do arquivo txt onde estão os nomes dos arquivos\n",
    "Test = nome da pasta que os arquivos serão movidos\n",
    "\n",
    "$ cat Dadosfold1test_namesAudios.txt | parallel -m -j0 --no-notice mv {} Test\n",
    "\n",
    "-----> Copiar\n",
    "\n",
    "$ cat Dadosfold1test_namesAudios.txt | parallel -m -j0 --no-notice cp {} Test\n"
   ]
  }
 ],
 "metadata": {
  "kernelspec": {
   "display_name": "Python 3",
   "language": "python",
   "name": "python3"
  },
  "language_info": {
   "codemirror_mode": {
    "name": "ipython",
    "version": 3
   },
   "file_extension": ".py",
   "mimetype": "text/x-python",
   "name": "python",
   "nbconvert_exporter": "python",
   "pygments_lexer": "ipython3",
   "version": "3.6.5"
  }
 },
 "nbformat": 4,
 "nbformat_minor": 2
}
